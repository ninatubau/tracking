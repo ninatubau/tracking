{
 "cells": [
  {
   "cell_type": "code",
   "execution_count": 2,
   "metadata": {},
   "outputs": [],
   "source": [
    "from tifffile import imread, imsave\n",
    "from skimage.filters import threshold_otsu\n",
    "from skimage.segmentation import clear_border\n",
    "from skimage.measure import label, regionprops_table, regionprops\n",
    "from skimage.morphology import closing, square\n",
    "from skimage.color import label2rgb\n",
    "from skimage import img_as_uint\n",
    "import matplotlib.pyplot as plt\n",
    "import matplotlib.patches as mpatches\n",
    "\n",
    "import pandas as pd\n",
    "from scipy import spatial\n",
    "import numpy as np"
   ]
  },
  {
   "cell_type": "code",
   "execution_count": 296,
   "metadata": {},
   "outputs": [],
   "source": [
    "data_0 = imread('/data/data_drive/processing/Mike/data.tif')"
   ]
  },
  {
   "cell_type": "code",
   "execution_count": 297,
   "metadata": {},
   "outputs": [
    {
     "data": {
      "text/plain": [
       "(130, 659, 661)"
      ]
     },
     "execution_count": 297,
     "metadata": {},
     "output_type": "execute_result"
    }
   ],
   "source": [
    "data_0.shape"
   ]
  },
  {
   "cell_type": "code",
   "execution_count": 300,
   "metadata": {},
   "outputs": [],
   "source": [
    "for i in range(data_0.shape[0]):\n",
    "    imsave('/data/data_drive/processing/Mike/seperated/'+str(i)+'.tif',data_0[i,:,:])"
   ]
  },
  {
   "cell_type": "code",
   "execution_count": 3,
   "metadata": {},
   "outputs": [],
   "source": [
    "data = imread('/data/data_drive/processing/Mike/data_watershed.tif')"
   ]
  },
  {
   "cell_type": "code",
   "execution_count": 34,
   "metadata": {},
   "outputs": [],
   "source": [
    "thresh = filters.threshold_otsu(data[10])\n",
    "bw = closing(data[10] > thresh, square(3))"
   ]
  },
  {
   "cell_type": "code",
   "execution_count": 95,
   "metadata": {},
   "outputs": [
    {
     "data": {
      "text/plain": [
       "(130, 659, 661)"
      ]
     },
     "execution_count": 95,
     "metadata": {},
     "output_type": "execute_result"
    }
   ],
   "source": [
    "data.shape"
   ]
  },
  {
   "cell_type": "code",
   "execution_count": 4,
   "metadata": {},
   "outputs": [],
   "source": [
    "N_rows = 114 \n",
    "N_cols = data.shape[0] * 4\n",
    "df = pd.DataFrame(np.zeros((N_rows, N_cols)))\n",
    "label_image = label(data[0])\n",
    "region_current = regionprops_table(label_image, properties=['label','centroid'])\n",
    "#df = pd.DataFrame(region_current)"
   ]
  },
  {
   "cell_type": "code",
   "execution_count": 5,
   "metadata": {},
   "outputs": [],
   "source": [
    "im = []\n",
    "for frame in range(data.shape[0]):\n",
    "    label_image = label(data[frame])\n",
    "    image_label_overlay = np.expand_dims(label2rgb(label_image, image=data[frame]), axis=0)\n",
    "    im.append(img_as_uint(image_label_overlay))\n",
    "    #fig, ax = plt.subplots(figsize=(10, 6))\n",
    "    #ax.imshow(image_label_overlay)\n",
    "im = np.concatenate(im, axis=0)"
   ]
  },
  {
   "cell_type": "code",
   "execution_count": 293,
   "metadata": {},
   "outputs": [
    {
     "data": {
      "text/plain": [
       "(130, 659, 661, 3)"
      ]
     },
     "execution_count": 293,
     "metadata": {},
     "output_type": "execute_result"
    }
   ],
   "source": [
    "im.shape"
   ]
  },
  {
   "cell_type": "code",
   "execution_count": 294,
   "metadata": {},
   "outputs": [],
   "source": [
    "imsave('/home/ninatubau/Desktop/result.tif',im)"
   ]
  },
  {
   "cell_type": "code",
   "execution_count": 155,
   "metadata": {},
   "outputs": [],
   "source": [
    "df = pd.DataFrame()\n",
    "LAB= [] \n",
    "for frame in range(data.shape[0]-1): \n",
    "    pos = [-1000] * 114 \n",
    "    dist = [-1000] * 114 \n",
    "    cent0 = [-1000] * 114 \n",
    "    cent1 = [-1000] * 114 \n",
    "    label_image = label(data[frame])\n",
    "    label_image_next = label(data[frame+1])\n",
    "    #image_label_overlay = label2rgb(label_image, image=data[frame])\n",
    "    #fig, ax = plt.subplots(figsize=(10, 6))\n",
    "    #ax.imshow(image_label_overlay)\n",
    "    region_current = regionprops(label_image)\n",
    "    region_next = regionprops(label_image_next)\n",
    "\n",
    "    LAB.append(len(region_current))\n",
    "    centroids = [region_next[i].centroid for i in range(len(region_next))]\n",
    "    tree = spatial.KDTree(centroids)\n",
    "    \n",
    "    for i in range(len(region_current)):\n",
    "        new_point = region_current[i].centroid\n",
    "        position = tree.query([new_point])[1][0]\n",
    "        distance = tree.query([new_point])[0][0]\n",
    "        value = region_next[position].centroid\n",
    "        pos[i] = position\n",
    "        dist[i] = distance \n",
    "        cent0[i] = value[0]\n",
    "        cent1[i] = value[1]\n",
    "    name_0 = 'centroid_x'+str(frame)\n",
    "    name_1 = 'centroid_y'+str(frame)\n",
    "    pos_ = 'pos_'+str(frame)\n",
    "    dist_ = 'dist_'+str(frame)\n",
    "    \n",
    "    df[name_0] = cent0\n",
    "    df[name_1] = cent1\n",
    "    df[pos_] = pos\n",
    "    df[dist_] = dist"
   ]
  },
  {
   "cell_type": "code",
   "execution_count": 120,
   "metadata": {},
   "outputs": [],
   "source": [
    "condition_no_duplicates = (~df.duplicated(['pos_0'],keep=False))\n",
    "condition_duplicates_small_dist = ((df.duplicated(['pos_0'],keep=False)) & (df['dist_0']<7.5))\n",
    "indexes = df[~(condition_no_duplicates | condition_duplicates_small_dist)].index"
   ]
  },
  {
   "cell_type": "code",
   "execution_count": 166,
   "metadata": {},
   "outputs": [
    {
     "data": {
      "text/html": [
       "<div>\n",
       "<style scoped>\n",
       "    .dataframe tbody tr th:only-of-type {\n",
       "        vertical-align: middle;\n",
       "    }\n",
       "\n",
       "    .dataframe tbody tr th {\n",
       "        vertical-align: top;\n",
       "    }\n",
       "\n",
       "    .dataframe thead th {\n",
       "        text-align: right;\n",
       "    }\n",
       "</style>\n",
       "<table border=\"1\" class=\"dataframe\">\n",
       "  <thead>\n",
       "    <tr style=\"text-align: right;\">\n",
       "      <th></th>\n",
       "      <th>centroid_x0</th>\n",
       "      <th>centroid_y0</th>\n",
       "      <th>pos_0</th>\n",
       "      <th>dist_0</th>\n",
       "      <th>centroid_x1</th>\n",
       "      <th>centroid_y1</th>\n",
       "      <th>pos_1</th>\n",
       "      <th>dist_1</th>\n",
       "      <th>centroid_x2</th>\n",
       "      <th>centroid_y2</th>\n",
       "      <th>...</th>\n",
       "      <th>pos_126</th>\n",
       "      <th>dist_126</th>\n",
       "      <th>centroid_x127</th>\n",
       "      <th>centroid_y127</th>\n",
       "      <th>pos_127</th>\n",
       "      <th>dist_127</th>\n",
       "      <th>centroid_x128</th>\n",
       "      <th>centroid_y128</th>\n",
       "      <th>pos_128</th>\n",
       "      <th>dist_128</th>\n",
       "    </tr>\n",
       "  </thead>\n",
       "  <tbody>\n",
       "    <tr>\n",
       "      <td>1</td>\n",
       "      <td>111.531481</td>\n",
       "      <td>309.088889</td>\n",
       "      <td>3</td>\n",
       "      <td>0.654228</td>\n",
       "      <td>106.052174</td>\n",
       "      <td>229.667081</td>\n",
       "      <td>1</td>\n",
       "      <td>1.200509</td>\n",
       "      <td>106.241060</td>\n",
       "      <td>229.557616</td>\n",
       "      <td>...</td>\n",
       "      <td>1</td>\n",
       "      <td>5.106344</td>\n",
       "      <td>98.821963</td>\n",
       "      <td>441.422629</td>\n",
       "      <td>1</td>\n",
       "      <td>0.425825</td>\n",
       "      <td>100.221258</td>\n",
       "      <td>437.40564</td>\n",
       "      <td>1</td>\n",
       "      <td>4.253731</td>\n",
       "    </tr>\n",
       "    <tr>\n",
       "      <td>2</td>\n",
       "      <td>116.458967</td>\n",
       "      <td>199.762918</td>\n",
       "      <td>2</td>\n",
       "      <td>0.509141</td>\n",
       "      <td>0.000000</td>\n",
       "      <td>0.000000</td>\n",
       "      <td>2</td>\n",
       "      <td>10.950474</td>\n",
       "      <td>117.806191</td>\n",
       "      <td>199.834455</td>\n",
       "      <td>...</td>\n",
       "      <td>2</td>\n",
       "      <td>3.123419</td>\n",
       "      <td>154.800000</td>\n",
       "      <td>346.600000</td>\n",
       "      <td>4</td>\n",
       "      <td>3.359173</td>\n",
       "      <td>0.000000</td>\n",
       "      <td>0.00000</td>\n",
       "      <td>2</td>\n",
       "      <td>9.356825</td>\n",
       "    </tr>\n",
       "  </tbody>\n",
       "</table>\n",
       "<p>2 rows × 516 columns</p>\n",
       "</div>"
      ],
      "text/plain": [
       "   centroid_x0  centroid_y0  pos_0    dist_0  centroid_x1  centroid_y1  pos_1  \\\n",
       "1   111.531481   309.088889      3  0.654228   106.052174   229.667081      1   \n",
       "2   116.458967   199.762918      2  0.509141     0.000000     0.000000      2   \n",
       "\n",
       "      dist_1  centroid_x2  centroid_y2  ...  pos_126  dist_126  centroid_x127  \\\n",
       "1   1.200509   106.241060   229.557616  ...        1  5.106344      98.821963   \n",
       "2  10.950474   117.806191   199.834455  ...        2  3.123419     154.800000   \n",
       "\n",
       "   centroid_y127  pos_127  dist_127  centroid_x128  centroid_y128  pos_128  \\\n",
       "1     441.422629        1  0.425825     100.221258      437.40564        1   \n",
       "2     346.600000        4  3.359173       0.000000        0.00000        2   \n",
       "\n",
       "   dist_128  \n",
       "1  4.253731  \n",
       "2  9.356825  \n",
       "\n",
       "[2 rows x 516 columns]"
      ]
     },
     "execution_count": 166,
     "metadata": {},
     "output_type": "execute_result"
    }
   ],
   "source": [
    "df[1:3]"
   ]
  },
  {
   "cell_type": "code",
   "execution_count": 163,
   "metadata": {},
   "outputs": [],
   "source": [
    "for frame in range(int(len(df.columns)/4)):\n",
    "    centroid_x = 'centroid_x'+str(frame)\n",
    "    centroid_y = 'centroid_y'+str(frame)\n",
    "    position = 'pos_'+str(frame)\n",
    "    distance = 'dist_'+str(frame)\n",
    "    condition_no_duplicates = (~df.duplicated([position],keep=False))\n",
    "    condition_duplicates_small_dist = ((df.duplicated([position],keep=False)) & (df[distance]<7.5))\n",
    "    indexes = df[~(condition_no_duplicates | condition_duplicates_small_dist)].index\n",
    "    for ind in indexes:\n",
    "        df.at[ind, centroid_x] = 0 \n",
    "        df.at[ind, centroid_y] = 0 \n"
   ]
  },
  {
   "cell_type": "code",
   "execution_count": 165,
   "metadata": {},
   "outputs": [],
   "source": [
    "export_csv = df.to_csv ('/home/ninatubau/Desktop/dataframe.csv', index = None, header=True)"
   ]
  },
  {
   "cell_type": "code",
   "execution_count": 6,
   "metadata": {},
   "outputs": [
    {
     "name": "stderr",
     "output_type": "stream",
     "text": [
      "/home/ninatubau/anaconda3/lib/python3.7/site-packages/ipykernel_launcher.py:1: FutureWarning: Method .as_matrix will be removed in a future version. Use .values instead.\n",
      "  \"\"\"Entry point for launching an IPython kernel.\n"
     ]
    }
   ],
   "source": [
    "point = df.iloc[[4]].as_matrix()\n",
    "even = np.arange(0,258,2)\n",
    "odd = np.arange(1,258,2)\n",
    "x_point = []\n",
    "y_point = []\n",
    "for i in even: \n",
    "    x_point.append(point[0,i]) \n",
    "for i in odd: \n",
    "    y_point.append(point[0,i])   "
   ]
  }
 ],
 "metadata": {
  "kernelspec": {
   "display_name": "Python 3",
   "language": "python",
   "name": "python3"
  },
  "language_info": {
   "codemirror_mode": {
    "name": "ipython",
    "version": 3
   },
   "file_extension": ".py",
   "mimetype": "text/x-python",
   "name": "python",
   "nbconvert_exporter": "python",
   "pygments_lexer": "ipython3",
   "version": "3.7.4"
  }
 },
 "nbformat": 4,
 "nbformat_minor": 2
}
